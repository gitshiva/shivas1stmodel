{
 "cells": [
  {
   "cell_type": "code",
   "execution_count": 1,
   "id": "8e4ea0fb-fa23-4dd8-a25b-bcaf5fcf0615",
   "metadata": {},
   "outputs": [
    {
     "name": "stderr",
     "output_type": "stream",
     "text": [
      "2024-02-27 22:38:19.248261: I tensorflow/core/util/port.cc:111] oneDNN custom operations are on. You may see slightly different numerical results due to floating-point round-off errors from different computation orders. To turn them off, set the environment variable `TF_ENABLE_ONEDNN_OPTS=0`.\n",
      "2024-02-27 22:38:19.292149: E tensorflow/compiler/xla/stream_executor/cuda/cuda_dnn.cc:9342] Unable to register cuDNN factory: Attempting to register factory for plugin cuDNN when one has already been registered\n",
      "2024-02-27 22:38:19.292183: E tensorflow/compiler/xla/stream_executor/cuda/cuda_fft.cc:609] Unable to register cuFFT factory: Attempting to register factory for plugin cuFFT when one has already been registered\n",
      "2024-02-27 22:38:19.292209: E tensorflow/compiler/xla/stream_executor/cuda/cuda_blas.cc:1518] Unable to register cuBLAS factory: Attempting to register factory for plugin cuBLAS when one has already been registered\n",
      "2024-02-27 22:38:19.300432: I tensorflow/core/platform/cpu_feature_guard.cc:182] This TensorFlow binary is optimized to use available CPU instructions in performance-critical operations.\n",
      "To enable the following instructions: AVX2 AVX512F AVX512_VNNI FMA, in other operations, rebuild TensorFlow with the appropriate compiler flags.\n",
      "2024-02-27 22:38:20.724315: I itex/core/wrapper/itex_cpu_wrapper.cc:60] Intel Extension for Tensorflow* AVX512 CPU backend is loaded.\n",
      "2024-02-27 22:38:20.816582: I tensorflow/compiler/xla/stream_executor/cuda/cuda_gpu_executor.cc:894] successful NUMA node read from SysFS had negative value (-1), but there must be at least one NUMA node, so returning NUMA node zero. See more at https://github.com/torvalds/linux/blob/v6.0/Documentation/ABI/testing/sysfs-bus-pci#L344-L355\n",
      "2024-02-27 22:38:20.825299: I tensorflow/compiler/xla/stream_executor/cuda/cuda_gpu_executor.cc:894] successful NUMA node read from SysFS had negative value (-1), but there must be at least one NUMA node, so returning NUMA node zero. See more at https://github.com/torvalds/linux/blob/v6.0/Documentation/ABI/testing/sysfs-bus-pci#L344-L355\n",
      "2024-02-27 22:38:20.828946: I tensorflow/compiler/xla/stream_executor/cuda/cuda_gpu_executor.cc:894] successful NUMA node read from SysFS had negative value (-1), but there must be at least one NUMA node, so returning NUMA node zero. See more at https://github.com/torvalds/linux/blob/v6.0/Documentation/ABI/testing/sysfs-bus-pci#L344-L355\n"
     ]
    }
   ],
   "source": [
    "# adapted based on https://www.tensorflow.org/tutorials/keras/regression\n",
    "import matplotlib.pyplot as plt\n",
    "import numpy as np\n",
    "np.set_printoptions(precision=3, suppress=True)\n",
    "import pandas as pd\n",
    "import seaborn as sns\n",
    "import tensorflow as tf\n",
    "from tensorflow import keras\n",
    "from tensorflow.keras import layers"
   ]
  },
  {
   "cell_type": "code",
   "execution_count": 2,
   "id": "fab5f74c-3b9c-4fed-b857-0f9fd26ba7e4",
   "metadata": {},
   "outputs": [
    {
     "name": "stdout",
     "output_type": "stream",
     "text": [
      "Done\n"
     ]
    }
   ],
   "source": [
    "raw_dataset = pd.read_csv('linear-relationship.csv')\n",
    "print('Done')"
   ]
  },
  {
   "cell_type": "code",
   "execution_count": 3,
   "id": "615ea1c2-91c1-4a7f-8dec-a740071fb235",
   "metadata": {},
   "outputs": [
    {
     "data": {
      "text/html": [
       "<div>\n",
       "<style scoped>\n",
       "    .dataframe tbody tr th:only-of-type {\n",
       "        vertical-align: middle;\n",
       "    }\n",
       "\n",
       "    .dataframe tbody tr th {\n",
       "        vertical-align: top;\n",
       "    }\n",
       "\n",
       "    .dataframe thead th {\n",
       "        text-align: right;\n",
       "    }\n",
       "</style>\n",
       "<table border=\"1\" class=\"dataframe\">\n",
       "  <thead>\n",
       "    <tr style=\"text-align: right;\">\n",
       "      <th></th>\n",
       "      <th>x</th>\n",
       "      <th>y</th>\n",
       "    </tr>\n",
       "  </thead>\n",
       "  <tbody>\n",
       "    <tr>\n",
       "      <th>9995</th>\n",
       "      <td>9995</td>\n",
       "      <td>19995</td>\n",
       "    </tr>\n",
       "    <tr>\n",
       "      <th>9996</th>\n",
       "      <td>9996</td>\n",
       "      <td>19997</td>\n",
       "    </tr>\n",
       "    <tr>\n",
       "      <th>9997</th>\n",
       "      <td>9997</td>\n",
       "      <td>19999</td>\n",
       "    </tr>\n",
       "    <tr>\n",
       "      <th>9998</th>\n",
       "      <td>9998</td>\n",
       "      <td>20001</td>\n",
       "    </tr>\n",
       "    <tr>\n",
       "      <th>9999</th>\n",
       "      <td>9999</td>\n",
       "      <td>20003</td>\n",
       "    </tr>\n",
       "  </tbody>\n",
       "</table>\n",
       "</div>"
      ],
      "text/plain": [
       "         x      y\n",
       "9995  9995  19995\n",
       "9996  9996  19997\n",
       "9997  9997  19999\n",
       "9998  9998  20001\n",
       "9999  9999  20003"
      ]
     },
     "execution_count": 3,
     "metadata": {},
     "output_type": "execute_result"
    }
   ],
   "source": [
    "dataset = raw_dataset.copy()\n",
    "dataset.tail()"
   ]
  },
  {
   "cell_type": "code",
   "execution_count": 4,
   "id": "5e707f69-43be-42a2-965c-d33dfece9fbd",
   "metadata": {},
   "outputs": [
    {
     "name": "stdout",
     "output_type": "stream",
     "text": [
      "--\n"
     ]
    },
    {
     "data": {
      "text/html": [
       "<div>\n",
       "<style scoped>\n",
       "    .dataframe tbody tr th:only-of-type {\n",
       "        vertical-align: middle;\n",
       "    }\n",
       "\n",
       "    .dataframe tbody tr th {\n",
       "        vertical-align: top;\n",
       "    }\n",
       "\n",
       "    .dataframe thead th {\n",
       "        text-align: right;\n",
       "    }\n",
       "</style>\n",
       "<table border=\"1\" class=\"dataframe\">\n",
       "  <thead>\n",
       "    <tr style=\"text-align: right;\">\n",
       "      <th></th>\n",
       "      <th>x</th>\n",
       "      <th>y</th>\n",
       "    </tr>\n",
       "  </thead>\n",
       "  <tbody>\n",
       "    <tr>\n",
       "      <th>9963</th>\n",
       "      <td>9963</td>\n",
       "      <td>19931</td>\n",
       "    </tr>\n",
       "    <tr>\n",
       "      <th>9969</th>\n",
       "      <td>9969</td>\n",
       "      <td>19943</td>\n",
       "    </tr>\n",
       "    <tr>\n",
       "      <th>9972</th>\n",
       "      <td>9972</td>\n",
       "      <td>19949</td>\n",
       "    </tr>\n",
       "    <tr>\n",
       "      <th>9982</th>\n",
       "      <td>9982</td>\n",
       "      <td>19969</td>\n",
       "    </tr>\n",
       "    <tr>\n",
       "      <th>9995</th>\n",
       "      <td>9995</td>\n",
       "      <td>19995</td>\n",
       "    </tr>\n",
       "  </tbody>\n",
       "</table>\n",
       "</div>"
      ],
      "text/plain": [
       "         x      y\n",
       "9963  9963  19931\n",
       "9969  9969  19943\n",
       "9972  9972  19949\n",
       "9982  9982  19969\n",
       "9995  9995  19995"
      ]
     },
     "execution_count": 4,
     "metadata": {},
     "output_type": "execute_result"
    }
   ],
   "source": [
    "train_ds = dataset.sample(frac=0.8, random_state=0)\n",
    "test_ds = dataset.drop(train_ds.index)\n",
    "train_ds.tail()\n",
    "print('--')\n",
    "test_ds.tail()"
   ]
  },
  {
   "cell_type": "code",
   "execution_count": 5,
   "id": "d0f322dd-e193-4124-b57b-222ee68c6bfd",
   "metadata": {},
   "outputs": [
    {
     "data": {
      "text/html": [
       "<div>\n",
       "<style scoped>\n",
       "    .dataframe tbody tr th:only-of-type {\n",
       "        vertical-align: middle;\n",
       "    }\n",
       "\n",
       "    .dataframe tbody tr th {\n",
       "        vertical-align: top;\n",
       "    }\n",
       "\n",
       "    .dataframe thead th {\n",
       "        text-align: right;\n",
       "    }\n",
       "</style>\n",
       "<table border=\"1\" class=\"dataframe\">\n",
       "  <thead>\n",
       "    <tr style=\"text-align: right;\">\n",
       "      <th></th>\n",
       "      <th>count</th>\n",
       "      <th>mean</th>\n",
       "      <th>std</th>\n",
       "      <th>min</th>\n",
       "      <th>25%</th>\n",
       "      <th>50%</th>\n",
       "      <th>75%</th>\n",
       "      <th>max</th>\n",
       "    </tr>\n",
       "  </thead>\n",
       "  <tbody>\n",
       "    <tr>\n",
       "      <th>x</th>\n",
       "      <td>8000.0</td>\n",
       "      <td>5003.4595</td>\n",
       "      <td>2887.354272</td>\n",
       "      <td>1.0</td>\n",
       "      <td>2493.75</td>\n",
       "      <td>5006.5</td>\n",
       "      <td>7517.25</td>\n",
       "      <td>9999.0</td>\n",
       "    </tr>\n",
       "    <tr>\n",
       "      <th>y</th>\n",
       "      <td>8000.0</td>\n",
       "      <td>10011.9190</td>\n",
       "      <td>5774.708543</td>\n",
       "      <td>7.0</td>\n",
       "      <td>4992.50</td>\n",
       "      <td>10018.0</td>\n",
       "      <td>15039.50</td>\n",
       "      <td>20003.0</td>\n",
       "    </tr>\n",
       "  </tbody>\n",
       "</table>\n",
       "</div>"
      ],
      "text/plain": [
       "    count        mean          std  min      25%      50%       75%      max\n",
       "x  8000.0   5003.4595  2887.354272  1.0  2493.75   5006.5   7517.25   9999.0\n",
       "y  8000.0  10011.9190  5774.708543  7.0  4992.50  10018.0  15039.50  20003.0"
      ]
     },
     "execution_count": 5,
     "metadata": {},
     "output_type": "execute_result"
    }
   ],
   "source": [
    "train_ds.describe().transpose()"
   ]
  },
  {
   "cell_type": "code",
   "execution_count": 6,
   "id": "11f92ef2-6f09-48a7-bc85-a16c30b59812",
   "metadata": {},
   "outputs": [],
   "source": [
    "train_features = train_ds.copy()\n",
    "test_features = test_ds.copy()\n",
    "\n",
    "train_labels = train_features.pop('y')\n",
    "test_labels = test_features.pop('y')"
   ]
  },
  {
   "cell_type": "code",
   "execution_count": 7,
   "id": "9d7d43e5-4df9-437f-89e0-fe81df59683a",
   "metadata": {},
   "outputs": [
    {
     "data": {
      "text/plain": [
       "(8000, 1)"
      ]
     },
     "execution_count": 7,
     "metadata": {},
     "output_type": "execute_result"
    }
   ],
   "source": [
    "train_features.shape"
   ]
  },
  {
   "cell_type": "code",
   "execution_count": 8,
   "id": "ae2856dd-cdfd-4ea3-aff2-ad37c3b68802",
   "metadata": {},
   "outputs": [
    {
     "data": {
      "text/plain": [
       "2"
      ]
     },
     "execution_count": 8,
     "metadata": {},
     "output_type": "execute_result"
    }
   ],
   "source": [
    "train_features.ndim"
   ]
  },
  {
   "cell_type": "code",
   "execution_count": 9,
   "id": "afc34765-5df3-4347-a59e-4657778fd78f",
   "metadata": {},
   "outputs": [
    {
     "name": "stderr",
     "output_type": "stream",
     "text": [
      "2024-02-27 22:38:21.084547: I tensorflow/compiler/xla/stream_executor/cuda/cuda_gpu_executor.cc:894] successful NUMA node read from SysFS had negative value (-1), but there must be at least one NUMA node, so returning NUMA node zero. See more at https://github.com/torvalds/linux/blob/v6.0/Documentation/ABI/testing/sysfs-bus-pci#L344-L355\n",
      "2024-02-27 22:38:21.088754: I tensorflow/compiler/xla/stream_executor/cuda/cuda_gpu_executor.cc:894] successful NUMA node read from SysFS had negative value (-1), but there must be at least one NUMA node, so returning NUMA node zero. See more at https://github.com/torvalds/linux/blob/v6.0/Documentation/ABI/testing/sysfs-bus-pci#L344-L355\n",
      "2024-02-27 22:38:21.092108: I tensorflow/compiler/xla/stream_executor/cuda/cuda_gpu_executor.cc:894] successful NUMA node read from SysFS had negative value (-1), but there must be at least one NUMA node, so returning NUMA node zero. See more at https://github.com/torvalds/linux/blob/v6.0/Documentation/ABI/testing/sysfs-bus-pci#L344-L355\n",
      "2024-02-27 22:38:21.298771: I tensorflow/compiler/xla/stream_executor/cuda/cuda_gpu_executor.cc:894] successful NUMA node read from SysFS had negative value (-1), but there must be at least one NUMA node, so returning NUMA node zero. See more at https://github.com/torvalds/linux/blob/v6.0/Documentation/ABI/testing/sysfs-bus-pci#L344-L355\n",
      "2024-02-27 22:38:21.300566: I tensorflow/compiler/xla/stream_executor/cuda/cuda_gpu_executor.cc:894] successful NUMA node read from SysFS had negative value (-1), but there must be at least one NUMA node, so returning NUMA node zero. See more at https://github.com/torvalds/linux/blob/v6.0/Documentation/ABI/testing/sysfs-bus-pci#L344-L355\n",
      "2024-02-27 22:38:21.302276: I tensorflow/compiler/xla/stream_executor/cuda/cuda_gpu_executor.cc:894] successful NUMA node read from SysFS had negative value (-1), but there must be at least one NUMA node, so returning NUMA node zero. See more at https://github.com/torvalds/linux/blob/v6.0/Documentation/ABI/testing/sysfs-bus-pci#L344-L355\n",
      "2024-02-27 22:38:21.303926: I tensorflow/core/common_runtime/gpu/gpu_device.cc:1886] Created device /job:localhost/replica:0/task:0/device:GPU:0 with 709 MB memory:  -> device: 0, name: Quadro RTX 4000, pci bus id: 0000:13:00.0, compute capability: 7.5\n"
     ]
    }
   ],
   "source": [
    "tsr_train_features = tf.convert_to_tensor(train_features)\n",
    "tsr_test_features = tf.convert_to_tensor(test_features)\n",
    "tsr_train_labels = tf.convert_to_tensor(train_labels)"
   ]
  },
  {
   "cell_type": "code",
   "execution_count": 10,
   "id": "ccfd7e72-cf86-41e7-a1c3-7bf5269caad7",
   "metadata": {},
   "outputs": [
    {
     "data": {
      "text/plain": [
       "TensorShape([8000, 1])"
      ]
     },
     "execution_count": 10,
     "metadata": {},
     "output_type": "execute_result"
    }
   ],
   "source": [
    "tsr_train_features.shape"
   ]
  },
  {
   "cell_type": "code",
   "execution_count": 11,
   "id": "20a1cbee-c94a-43cd-907a-48d5be2e3d11",
   "metadata": {},
   "outputs": [],
   "source": [
    "a_model = tf.keras.Sequential([\n",
    "    layers.Dense(units=1)\n",
    "])"
   ]
  },
  {
   "cell_type": "code",
   "execution_count": 12,
   "id": "01808666-99d5-44bf-8555-8248a05a878e",
   "metadata": {},
   "outputs": [
    {
     "name": "stdout",
     "output_type": "stream",
     "text": [
      "Done\n"
     ]
    }
   ],
   "source": [
    "a_model.compile(optimizer=tf.keras.optimizers.Adam(), loss='mean_absolute_error')\n",
    "\n",
    "print('Done')"
   ]
  },
  {
   "cell_type": "code",
   "execution_count": 13,
   "id": "35afab46-6b8c-45e7-97f8-1017fa206ffa",
   "metadata": {},
   "outputs": [
    {
     "name": "stdout",
     "output_type": "stream",
     "text": [
      "Epoch 1/40\n"
     ]
    },
    {
     "name": "stderr",
     "output_type": "stream",
     "text": [
      "2024-02-27 22:38:21.612709: I tensorflow/core/grappler/optimizers/custom_graph_optimizer_registry.cc:117] Plugin optimizer for device_type CPU is enabled.\n",
      "2024-02-27 22:38:22.015791: I tensorflow/tsl/platform/default/subprocess.cc:304] Start cannot spawn child process: No such file or directory\n",
      "2024-02-27 22:38:22.088891: I tensorflow/compiler/xla/service/service.cc:168] XLA service 0x7f4cbcf34f50 initialized for platform CUDA (this does not guarantee that XLA will be used). Devices:\n",
      "2024-02-27 22:38:22.088933: I tensorflow/compiler/xla/service/service.cc:176]   StreamExecutor device (0): Quadro RTX 4000, Compute Capability 7.5\n",
      "2024-02-27 22:38:22.095455: I tensorflow/compiler/mlir/tensorflow/utils/dump_mlir_util.cc:269] disabling MLIR crash reproducer, set env var `MLIR_CRASH_REPRODUCER_DIRECTORY` to enable.\n",
      "2024-02-27 22:38:22.117980: I tensorflow/compiler/xla/stream_executor/cuda/cuda_dnn.cc:442] Loaded cuDNN version 8700\n",
      "2024-02-27 22:38:22.210501: I ./tensorflow/compiler/jit/device_compiler.h:186] Compiled cluster using XLA!  This line is logged at most once for the lifetime of the process.\n"
     ]
    },
    {
     "name": "stdout",
     "output_type": "stream",
     "text": [
      "200/200 [==============================] - 1s 3ms/step - loss: 17932.3809 - val_loss: 17022.8633\n",
      "Epoch 2/40\n",
      "200/200 [==============================] - 0s 2ms/step - loss: 16931.9688 - val_loss: 16044.7549\n",
      "Epoch 3/40\n",
      "200/200 [==============================] - 0s 2ms/step - loss: 15931.2598 - val_loss: 15068.0996\n",
      "Epoch 4/40\n",
      "200/200 [==============================] - 0s 2ms/step - loss: 14930.6885 - val_loss: 14090.3389\n",
      "Epoch 5/40\n",
      "200/200 [==============================] - 0s 2ms/step - loss: 13929.9229 - val_loss: 13113.6035\n",
      "Epoch 6/40\n",
      "200/200 [==============================] - 0s 2ms/step - loss: 12929.5137 - val_loss: 12135.3691\n",
      "Epoch 7/40\n",
      "200/200 [==============================] - 0s 2ms/step - loss: 11929.1055 - val_loss: 11158.4189\n",
      "Epoch 8/40\n",
      "200/200 [==============================] - 0s 2ms/step - loss: 10928.8623 - val_loss: 10180.9648\n",
      "Epoch 9/40\n",
      "200/200 [==============================] - 0s 2ms/step - loss: 9928.1943 - val_loss: 9204.1719\n",
      "Epoch 10/40\n",
      "200/200 [==============================] - 0s 2ms/step - loss: 8926.9932 - val_loss: 8228.2080\n",
      "Epoch 11/40\n",
      "200/200 [==============================] - 0s 2ms/step - loss: 7926.9463 - val_loss: 7249.5933\n",
      "Epoch 12/40\n",
      "200/200 [==============================] - 0s 2ms/step - loss: 6926.8999 - val_loss: 6275.1543\n",
      "Epoch 13/40\n",
      "200/200 [==============================] - 0s 2ms/step - loss: 5926.4751 - val_loss: 5296.4307\n",
      "Epoch 14/40\n",
      "200/200 [==============================] - 0s 2ms/step - loss: 4925.4849 - val_loss: 4319.8198\n",
      "Epoch 15/40\n",
      "200/200 [==============================] - 0s 2ms/step - loss: 3925.2368 - val_loss: 3341.9033\n",
      "Epoch 16/40\n",
      "200/200 [==============================] - 0s 2ms/step - loss: 2924.5237 - val_loss: 2365.9502\n",
      "Epoch 17/40\n",
      "200/200 [==============================] - 0s 2ms/step - loss: 1923.2883 - val_loss: 1388.4792\n",
      "Epoch 18/40\n",
      "200/200 [==============================] - 0s 2ms/step - loss: 922.9228 - val_loss: 409.8420\n",
      "Epoch 19/40\n",
      "200/200 [==============================] - 0s 2ms/step - loss: 90.3968 - val_loss: 0.5899\n",
      "Epoch 20/40\n",
      "200/200 [==============================] - 0s 2ms/step - loss: 0.5654 - val_loss: 0.5812\n",
      "Epoch 21/40\n",
      "200/200 [==============================] - 0s 2ms/step - loss: 0.5997 - val_loss: 0.8251\n",
      "Epoch 22/40\n",
      "200/200 [==============================] - 0s 2ms/step - loss: 0.6032 - val_loss: 0.5281\n",
      "Epoch 23/40\n",
      "200/200 [==============================] - 0s 2ms/step - loss: 0.5196 - val_loss: 0.5281\n",
      "Epoch 24/40\n",
      "200/200 [==============================] - 0s 2ms/step - loss: 0.5162 - val_loss: 0.3803\n",
      "Epoch 25/40\n",
      "200/200 [==============================] - 0s 2ms/step - loss: 0.5848 - val_loss: 0.3606\n",
      "Epoch 26/40\n",
      "200/200 [==============================] - 0s 2ms/step - loss: 0.5113 - val_loss: 0.3165\n",
      "Epoch 27/40\n",
      "200/200 [==============================] - 0s 2ms/step - loss: 0.4334 - val_loss: 0.2916\n",
      "Epoch 28/40\n",
      "200/200 [==============================] - 0s 2ms/step - loss: 0.5187 - val_loss: 0.2692\n",
      "Epoch 29/40\n",
      "200/200 [==============================] - 0s 2ms/step - loss: 0.6087 - val_loss: 0.2056\n",
      "Epoch 30/40\n",
      "200/200 [==============================] - 0s 2ms/step - loss: 0.7727 - val_loss: 0.5191\n",
      "Epoch 31/40\n",
      "200/200 [==============================] - 0s 2ms/step - loss: 0.5216 - val_loss: 0.5458\n",
      "Epoch 32/40\n",
      "200/200 [==============================] - 0s 2ms/step - loss: 0.5369 - val_loss: 0.3295\n",
      "Epoch 33/40\n",
      "200/200 [==============================] - 0s 2ms/step - loss: 0.5185 - val_loss: 0.4480\n",
      "Epoch 34/40\n",
      "200/200 [==============================] - 0s 2ms/step - loss: 0.4533 - val_loss: 0.9349\n",
      "Epoch 35/40\n",
      "200/200 [==============================] - 0s 2ms/step - loss: 0.5522 - val_loss: 1.3602\n",
      "Epoch 36/40\n",
      "200/200 [==============================] - 0s 2ms/step - loss: 0.5201 - val_loss: 1.1122\n",
      "Epoch 37/40\n",
      "200/200 [==============================] - 0s 2ms/step - loss: 0.5558 - val_loss: 0.6080\n",
      "Epoch 38/40\n",
      "200/200 [==============================] - 0s 2ms/step - loss: 0.6297 - val_loss: 1.4201\n",
      "Epoch 39/40\n",
      "200/200 [==============================] - 0s 2ms/step - loss: 0.5152 - val_loss: 1.0463\n",
      "Epoch 40/40\n",
      "200/200 [==============================] - 0s 2ms/step - loss: 0.6457 - val_loss: 2.5422\n",
      "CPU times: user 16.8 s, sys: 1.29 s, total: 18.1 s\n",
      "Wall time: 15.5 s\n"
     ]
    }
   ],
   "source": [
    "%%time\n",
    "history = a_model.fit(\n",
    "    tsr_train_features,\n",
    "    tsr_train_labels,\n",
    "    epochs=40,\n",
    "    validation_split=0.2)"
   ]
  },
  {
   "cell_type": "code",
   "execution_count": 14,
   "id": "45bb7c18-4c05-46a9-b1c5-f8bd58aebac7",
   "metadata": {},
   "outputs": [
    {
     "name": "stdout",
     "output_type": "stream",
     "text": [
      "1/1 [==============================] - 0s 91ms/step\n"
     ]
    }
   ],
   "source": [
    "a1 = [[11000]]\n",
    "b1 = a_model.predict(a1)"
   ]
  },
  {
   "cell_type": "code",
   "execution_count": 15,
   "id": "7629ea1d-bb68-4762-83b6-ed1a698134c6",
   "metadata": {},
   "outputs": [
    {
     "data": {
      "text/plain": [
       "array([[21999.361]], dtype=float32)"
      ]
     },
     "execution_count": 15,
     "metadata": {},
     "output_type": "execute_result"
    }
   ],
   "source": [
    "b1"
   ]
  },
  {
   "cell_type": "markdown",
   "id": "8fd7d9af-822c-4b87-aea4-9c0c3ad7c632",
   "metadata": {},
   "source": [
    "# based on equation y = x*2 + 5, the expected value is 22005, and predicted value of 21999.361 is PRETTY close."
   ]
  }
 ],
 "metadata": {
  "kernelspec": {
   "display_name": "Python 3 (ipykernel)",
   "language": "python",
   "name": "python3"
  },
  "language_info": {
   "codemirror_mode": {
    "name": "ipython",
    "version": 3
   },
   "file_extension": ".py",
   "mimetype": "text/x-python",
   "name": "python",
   "nbconvert_exporter": "python",
   "pygments_lexer": "ipython3",
   "version": "3.10.12"
  }
 },
 "nbformat": 4,
 "nbformat_minor": 5
}
