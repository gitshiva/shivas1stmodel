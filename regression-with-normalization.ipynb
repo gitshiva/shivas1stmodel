{
 "cells": [
  {
   "cell_type": "code",
   "execution_count": 1,
   "id": "8e4ea0fb-fa23-4dd8-a25b-bcaf5fcf0615",
   "metadata": {},
   "outputs": [
    {
     "name": "stderr",
     "output_type": "stream",
     "text": [
      "2024-02-27 23:01:06.182159: I tensorflow/core/util/port.cc:111] oneDNN custom operations are on. You may see slightly different numerical results due to floating-point round-off errors from different computation orders. To turn them off, set the environment variable `TF_ENABLE_ONEDNN_OPTS=0`.\n",
      "2024-02-27 23:01:06.226378: E tensorflow/compiler/xla/stream_executor/cuda/cuda_dnn.cc:9342] Unable to register cuDNN factory: Attempting to register factory for plugin cuDNN when one has already been registered\n",
      "2024-02-27 23:01:06.226410: E tensorflow/compiler/xla/stream_executor/cuda/cuda_fft.cc:609] Unable to register cuFFT factory: Attempting to register factory for plugin cuFFT when one has already been registered\n",
      "2024-02-27 23:01:06.226443: E tensorflow/compiler/xla/stream_executor/cuda/cuda_blas.cc:1518] Unable to register cuBLAS factory: Attempting to register factory for plugin cuBLAS when one has already been registered\n",
      "2024-02-27 23:01:06.234760: I tensorflow/core/platform/cpu_feature_guard.cc:182] This TensorFlow binary is optimized to use available CPU instructions in performance-critical operations.\n",
      "To enable the following instructions: AVX2 AVX512F AVX512_VNNI FMA, in other operations, rebuild TensorFlow with the appropriate compiler flags.\n",
      "2024-02-27 23:01:07.671201: I itex/core/wrapper/itex_cpu_wrapper.cc:60] Intel Extension for Tensorflow* AVX512 CPU backend is loaded.\n",
      "2024-02-27 23:01:07.873963: I tensorflow/compiler/xla/stream_executor/cuda/cuda_gpu_executor.cc:894] successful NUMA node read from SysFS had negative value (-1), but there must be at least one NUMA node, so returning NUMA node zero. See more at https://github.com/torvalds/linux/blob/v6.0/Documentation/ABI/testing/sysfs-bus-pci#L344-L355\n",
      "2024-02-27 23:01:07.883295: I tensorflow/compiler/xla/stream_executor/cuda/cuda_gpu_executor.cc:894] successful NUMA node read from SysFS had negative value (-1), but there must be at least one NUMA node, so returning NUMA node zero. See more at https://github.com/torvalds/linux/blob/v6.0/Documentation/ABI/testing/sysfs-bus-pci#L344-L355\n",
      "2024-02-27 23:01:07.886847: I tensorflow/compiler/xla/stream_executor/cuda/cuda_gpu_executor.cc:894] successful NUMA node read from SysFS had negative value (-1), but there must be at least one NUMA node, so returning NUMA node zero. See more at https://github.com/torvalds/linux/blob/v6.0/Documentation/ABI/testing/sysfs-bus-pci#L344-L355\n"
     ]
    }
   ],
   "source": [
    "# adapted based on https://www.tensorflow.org/tutorials/keras/regression\n",
    "import matplotlib.pyplot as plt\n",
    "import numpy as np\n",
    "np.set_printoptions(precision=3, suppress=True)\n",
    "import pandas as pd\n",
    "import seaborn as sns\n",
    "import tensorflow as tf\n",
    "from tensorflow import keras\n",
    "from tensorflow.keras import layers"
   ]
  },
  {
   "cell_type": "code",
   "execution_count": 2,
   "id": "fab5f74c-3b9c-4fed-b857-0f9fd26ba7e4",
   "metadata": {},
   "outputs": [
    {
     "name": "stdout",
     "output_type": "stream",
     "text": [
      "Done\n"
     ]
    }
   ],
   "source": [
    "raw_dataset = pd.read_csv('linear-relationship.csv')\n",
    "print('Done')"
   ]
  },
  {
   "cell_type": "code",
   "execution_count": 3,
   "id": "615ea1c2-91c1-4a7f-8dec-a740071fb235",
   "metadata": {},
   "outputs": [
    {
     "data": {
      "text/html": [
       "<div>\n",
       "<style scoped>\n",
       "    .dataframe tbody tr th:only-of-type {\n",
       "        vertical-align: middle;\n",
       "    }\n",
       "\n",
       "    .dataframe tbody tr th {\n",
       "        vertical-align: top;\n",
       "    }\n",
       "\n",
       "    .dataframe thead th {\n",
       "        text-align: right;\n",
       "    }\n",
       "</style>\n",
       "<table border=\"1\" class=\"dataframe\">\n",
       "  <thead>\n",
       "    <tr style=\"text-align: right;\">\n",
       "      <th></th>\n",
       "      <th>x</th>\n",
       "      <th>y</th>\n",
       "    </tr>\n",
       "  </thead>\n",
       "  <tbody>\n",
       "    <tr>\n",
       "      <th>9995</th>\n",
       "      <td>9995</td>\n",
       "      <td>19995</td>\n",
       "    </tr>\n",
       "    <tr>\n",
       "      <th>9996</th>\n",
       "      <td>9996</td>\n",
       "      <td>19997</td>\n",
       "    </tr>\n",
       "    <tr>\n",
       "      <th>9997</th>\n",
       "      <td>9997</td>\n",
       "      <td>19999</td>\n",
       "    </tr>\n",
       "    <tr>\n",
       "      <th>9998</th>\n",
       "      <td>9998</td>\n",
       "      <td>20001</td>\n",
       "    </tr>\n",
       "    <tr>\n",
       "      <th>9999</th>\n",
       "      <td>9999</td>\n",
       "      <td>20003</td>\n",
       "    </tr>\n",
       "  </tbody>\n",
       "</table>\n",
       "</div>"
      ],
      "text/plain": [
       "         x      y\n",
       "9995  9995  19995\n",
       "9996  9996  19997\n",
       "9997  9997  19999\n",
       "9998  9998  20001\n",
       "9999  9999  20003"
      ]
     },
     "execution_count": 3,
     "metadata": {},
     "output_type": "execute_result"
    }
   ],
   "source": [
    "dataset = raw_dataset.copy()\n",
    "dataset.tail()"
   ]
  },
  {
   "cell_type": "code",
   "execution_count": 4,
   "id": "5e707f69-43be-42a2-965c-d33dfece9fbd",
   "metadata": {},
   "outputs": [
    {
     "name": "stdout",
     "output_type": "stream",
     "text": [
      "--\n"
     ]
    },
    {
     "data": {
      "text/html": [
       "<div>\n",
       "<style scoped>\n",
       "    .dataframe tbody tr th:only-of-type {\n",
       "        vertical-align: middle;\n",
       "    }\n",
       "\n",
       "    .dataframe tbody tr th {\n",
       "        vertical-align: top;\n",
       "    }\n",
       "\n",
       "    .dataframe thead th {\n",
       "        text-align: right;\n",
       "    }\n",
       "</style>\n",
       "<table border=\"1\" class=\"dataframe\">\n",
       "  <thead>\n",
       "    <tr style=\"text-align: right;\">\n",
       "      <th></th>\n",
       "      <th>x</th>\n",
       "      <th>y</th>\n",
       "    </tr>\n",
       "  </thead>\n",
       "  <tbody>\n",
       "    <tr>\n",
       "      <th>9963</th>\n",
       "      <td>9963</td>\n",
       "      <td>19931</td>\n",
       "    </tr>\n",
       "    <tr>\n",
       "      <th>9969</th>\n",
       "      <td>9969</td>\n",
       "      <td>19943</td>\n",
       "    </tr>\n",
       "    <tr>\n",
       "      <th>9972</th>\n",
       "      <td>9972</td>\n",
       "      <td>19949</td>\n",
       "    </tr>\n",
       "    <tr>\n",
       "      <th>9982</th>\n",
       "      <td>9982</td>\n",
       "      <td>19969</td>\n",
       "    </tr>\n",
       "    <tr>\n",
       "      <th>9995</th>\n",
       "      <td>9995</td>\n",
       "      <td>19995</td>\n",
       "    </tr>\n",
       "  </tbody>\n",
       "</table>\n",
       "</div>"
      ],
      "text/plain": [
       "         x      y\n",
       "9963  9963  19931\n",
       "9969  9969  19943\n",
       "9972  9972  19949\n",
       "9982  9982  19969\n",
       "9995  9995  19995"
      ]
     },
     "execution_count": 4,
     "metadata": {},
     "output_type": "execute_result"
    }
   ],
   "source": [
    "train_ds = dataset.sample(frac=0.8, random_state=0)\n",
    "test_ds = dataset.drop(train_ds.index)\n",
    "train_ds.tail()\n",
    "print('--')\n",
    "test_ds.tail()"
   ]
  },
  {
   "cell_type": "code",
   "execution_count": 5,
   "id": "d0f322dd-e193-4124-b57b-222ee68c6bfd",
   "metadata": {},
   "outputs": [
    {
     "data": {
      "text/html": [
       "<div>\n",
       "<style scoped>\n",
       "    .dataframe tbody tr th:only-of-type {\n",
       "        vertical-align: middle;\n",
       "    }\n",
       "\n",
       "    .dataframe tbody tr th {\n",
       "        vertical-align: top;\n",
       "    }\n",
       "\n",
       "    .dataframe thead th {\n",
       "        text-align: right;\n",
       "    }\n",
       "</style>\n",
       "<table border=\"1\" class=\"dataframe\">\n",
       "  <thead>\n",
       "    <tr style=\"text-align: right;\">\n",
       "      <th></th>\n",
       "      <th>count</th>\n",
       "      <th>mean</th>\n",
       "      <th>std</th>\n",
       "      <th>min</th>\n",
       "      <th>25%</th>\n",
       "      <th>50%</th>\n",
       "      <th>75%</th>\n",
       "      <th>max</th>\n",
       "    </tr>\n",
       "  </thead>\n",
       "  <tbody>\n",
       "    <tr>\n",
       "      <th>x</th>\n",
       "      <td>8000.0</td>\n",
       "      <td>5003.4595</td>\n",
       "      <td>2887.354272</td>\n",
       "      <td>1.0</td>\n",
       "      <td>2493.75</td>\n",
       "      <td>5006.5</td>\n",
       "      <td>7517.25</td>\n",
       "      <td>9999.0</td>\n",
       "    </tr>\n",
       "    <tr>\n",
       "      <th>y</th>\n",
       "      <td>8000.0</td>\n",
       "      <td>10011.9190</td>\n",
       "      <td>5774.708543</td>\n",
       "      <td>7.0</td>\n",
       "      <td>4992.50</td>\n",
       "      <td>10018.0</td>\n",
       "      <td>15039.50</td>\n",
       "      <td>20003.0</td>\n",
       "    </tr>\n",
       "  </tbody>\n",
       "</table>\n",
       "</div>"
      ],
      "text/plain": [
       "    count        mean          std  min      25%      50%       75%      max\n",
       "x  8000.0   5003.4595  2887.354272  1.0  2493.75   5006.5   7517.25   9999.0\n",
       "y  8000.0  10011.9190  5774.708543  7.0  4992.50  10018.0  15039.50  20003.0"
      ]
     },
     "execution_count": 5,
     "metadata": {},
     "output_type": "execute_result"
    }
   ],
   "source": [
    "train_ds.describe().transpose()"
   ]
  },
  {
   "cell_type": "code",
   "execution_count": 6,
   "id": "11f92ef2-6f09-48a7-bc85-a16c30b59812",
   "metadata": {},
   "outputs": [],
   "source": [
    "train_features = train_ds.copy()\n",
    "test_features = test_ds.copy()\n",
    "\n",
    "train_labels = train_features.pop('y')\n",
    "test_labels = test_features.pop('y')"
   ]
  },
  {
   "cell_type": "code",
   "execution_count": 7,
   "id": "afc34765-5df3-4347-a59e-4657778fd78f",
   "metadata": {},
   "outputs": [
    {
     "name": "stderr",
     "output_type": "stream",
     "text": [
      "2024-02-27 23:01:08.186117: I tensorflow/compiler/xla/stream_executor/cuda/cuda_gpu_executor.cc:894] successful NUMA node read from SysFS had negative value (-1), but there must be at least one NUMA node, so returning NUMA node zero. See more at https://github.com/torvalds/linux/blob/v6.0/Documentation/ABI/testing/sysfs-bus-pci#L344-L355\n",
      "2024-02-27 23:01:08.190164: I tensorflow/compiler/xla/stream_executor/cuda/cuda_gpu_executor.cc:894] successful NUMA node read from SysFS had negative value (-1), but there must be at least one NUMA node, so returning NUMA node zero. See more at https://github.com/torvalds/linux/blob/v6.0/Documentation/ABI/testing/sysfs-bus-pci#L344-L355\n",
      "2024-02-27 23:01:08.193526: I tensorflow/compiler/xla/stream_executor/cuda/cuda_gpu_executor.cc:894] successful NUMA node read from SysFS had negative value (-1), but there must be at least one NUMA node, so returning NUMA node zero. See more at https://github.com/torvalds/linux/blob/v6.0/Documentation/ABI/testing/sysfs-bus-pci#L344-L355\n",
      "2024-02-27 23:01:08.376909: I tensorflow/compiler/xla/stream_executor/cuda/cuda_gpu_executor.cc:894] successful NUMA node read from SysFS had negative value (-1), but there must be at least one NUMA node, so returning NUMA node zero. See more at https://github.com/torvalds/linux/blob/v6.0/Documentation/ABI/testing/sysfs-bus-pci#L344-L355\n",
      "2024-02-27 23:01:08.378759: I tensorflow/compiler/xla/stream_executor/cuda/cuda_gpu_executor.cc:894] successful NUMA node read from SysFS had negative value (-1), but there must be at least one NUMA node, so returning NUMA node zero. See more at https://github.com/torvalds/linux/blob/v6.0/Documentation/ABI/testing/sysfs-bus-pci#L344-L355\n",
      "2024-02-27 23:01:08.380500: I tensorflow/compiler/xla/stream_executor/cuda/cuda_gpu_executor.cc:894] successful NUMA node read from SysFS had negative value (-1), but there must be at least one NUMA node, so returning NUMA node zero. See more at https://github.com/torvalds/linux/blob/v6.0/Documentation/ABI/testing/sysfs-bus-pci#L344-L355\n",
      "2024-02-27 23:01:08.382199: I tensorflow/core/common_runtime/gpu/gpu_device.cc:1886] Created device /job:localhost/replica:0/task:0/device:GPU:0 with 6653 MB memory:  -> device: 0, name: Quadro RTX 4000, pci bus id: 0000:13:00.0, compute capability: 7.5\n"
     ]
    }
   ],
   "source": [
    "tsr_train_features = tf.convert_to_tensor(train_features)\n",
    "tsr_train_labels = tf.convert_to_tensor(train_labels)\n",
    "\n",
    "tsr_test_features = tf.convert_to_tensor(test_features)\n",
    "tsr_test_labels = tf.convert_to_tensor(test_labels)"
   ]
  },
  {
   "cell_type": "code",
   "execution_count": 8,
   "id": "7b0095a5-c080-4207-8609-89647f2d8503",
   "metadata": {},
   "outputs": [
    {
     "name": "stderr",
     "output_type": "stream",
     "text": [
      "2024-02-27 23:01:08.584588: I tensorflow/core/grappler/optimizers/custom_graph_optimizer_registry.cc:117] Plugin optimizer for device_type CPU is enabled.\n",
      "2024-02-27 23:01:09.032452: I tensorflow/tsl/platform/default/subprocess.cc:304] Start cannot spawn child process: No such file or directory\n"
     ]
    }
   ],
   "source": [
    "normalizer = tf.keras.layers.Normalization(axis=-1)\n",
    "normalizer.adapt(np.array(tsr_train_features))"
   ]
  },
  {
   "cell_type": "code",
   "execution_count": 9,
   "id": "d38e89c8-ea97-4dfc-b25f-92625b0b242e",
   "metadata": {},
   "outputs": [
    {
     "name": "stdout",
     "output_type": "stream",
     "text": [
      "Done\n"
     ]
    }
   ],
   "source": [
    "a = np.array(train_features)\n",
    "\n",
    "a_normalizer = layers.Normalization(input_shape=[1,], axis=None)\n",
    "a_normalizer.adapt(a)\n",
    "print ('Done')"
   ]
  },
  {
   "cell_type": "code",
   "execution_count": 10,
   "id": "20a1cbee-c94a-43cd-907a-48d5be2e3d11",
   "metadata": {},
   "outputs": [],
   "source": [
    "a_model = tf.keras.Sequential([\n",
    "    a_normalizer,\n",
    "    layers.Dense(units=1)\n",
    "])"
   ]
  },
  {
   "cell_type": "code",
   "execution_count": 11,
   "id": "01808666-99d5-44bf-8555-8248a05a878e",
   "metadata": {},
   "outputs": [
    {
     "name": "stdout",
     "output_type": "stream",
     "text": [
      "Done\n"
     ]
    }
   ],
   "source": [
    "a_model.compile(optimizer=tf.keras.optimizers.Adam(), loss='mean_absolute_error')\n",
    "\n",
    "print('Done')"
   ]
  },
  {
   "cell_type": "code",
   "execution_count": 12,
   "id": "35afab46-6b8c-45e7-97f8-1017fa206ffa",
   "metadata": {},
   "outputs": [
    {
     "name": "stdout",
     "output_type": "stream",
     "text": [
      "Epoch 1/40\n",
      "  1/200 [..............................] - ETA: 3:11 - loss: 9215.9609"
     ]
    },
    {
     "name": "stderr",
     "output_type": "stream",
     "text": [
      "2024-02-27 23:01:11.065787: I tensorflow/compiler/xla/service/service.cc:168] XLA service 0x7f8bc151f4a0 initialized for platform CUDA (this does not guarantee that XLA will be used). Devices:\n",
      "2024-02-27 23:01:11.065823: I tensorflow/compiler/xla/service/service.cc:176]   StreamExecutor device (0): Quadro RTX 4000, Compute Capability 7.5\n",
      "2024-02-27 23:01:11.071373: I tensorflow/compiler/mlir/tensorflow/utils/dump_mlir_util.cc:269] disabling MLIR crash reproducer, set env var `MLIR_CRASH_REPRODUCER_DIRECTORY` to enable.\n",
      "2024-02-27 23:01:11.090013: I tensorflow/compiler/xla/stream_executor/cuda/cuda_dnn.cc:442] Loaded cuDNN version 8700\n",
      "2024-02-27 23:01:11.169285: I ./tensorflow/compiler/jit/device_compiler.h:186] Compiled cluster using XLA!  This line is logged at most once for the lifetime of the process.\n"
     ]
    },
    {
     "name": "stdout",
     "output_type": "stream",
     "text": [
      "200/200 [==============================] - 1s 2ms/step - loss: 10058.8428 - val_loss: 9823.6279\n",
      "Epoch 2/40\n",
      "200/200 [==============================] - 0s 2ms/step - loss: 10058.6416 - val_loss: 9823.4277\n",
      "Epoch 3/40\n",
      "200/200 [==============================] - 0s 2ms/step - loss: 10058.4473 - val_loss: 9823.2285\n",
      "Epoch 4/40\n",
      "200/200 [==============================] - 0s 2ms/step - loss: 10058.2422 - val_loss: 9823.0283\n",
      "Epoch 5/40\n",
      "200/200 [==============================] - 0s 2ms/step - loss: 10058.0410 - val_loss: 9822.8291\n",
      "Epoch 6/40\n",
      "200/200 [==============================] - 0s 2ms/step - loss: 10057.8467 - val_loss: 9822.6289\n",
      "Epoch 7/40\n",
      "200/200 [==============================] - 0s 2ms/step - loss: 10057.6484 - val_loss: 9822.4297\n",
      "Epoch 8/40\n",
      "200/200 [==============================] - 0s 2ms/step - loss: 10057.4404 - val_loss: 9822.2305\n",
      "Epoch 9/40\n",
      "200/200 [==============================] - 0s 2ms/step - loss: 10057.2402 - val_loss: 9822.0303\n",
      "Epoch 10/40\n",
      "200/200 [==============================] - 0s 2ms/step - loss: 10057.0400 - val_loss: 9821.8311\n",
      "Epoch 11/40\n",
      "200/200 [==============================] - 0s 2ms/step - loss: 10056.8398 - val_loss: 9821.6309\n",
      "Epoch 12/40\n",
      "200/200 [==============================] - 0s 2ms/step - loss: 10056.6416 - val_loss: 9821.4316\n",
      "Epoch 13/40\n",
      "200/200 [==============================] - 0s 2ms/step - loss: 10056.4414 - val_loss: 9821.2324\n",
      "Epoch 14/40\n",
      "200/200 [==============================] - 0s 2ms/step - loss: 10056.2432 - val_loss: 9821.0303\n",
      "Epoch 15/40\n",
      "200/200 [==============================] - 0s 2ms/step - loss: 10056.0400 - val_loss: 9820.8320\n",
      "Epoch 16/40\n",
      "200/200 [==============================] - 0s 2ms/step - loss: 10055.8408 - val_loss: 9820.6348\n",
      "Epoch 17/40\n",
      "200/200 [==============================] - 0s 2ms/step - loss: 10055.6416 - val_loss: 9820.4336\n",
      "Epoch 18/40\n",
      "200/200 [==============================] - 0s 2ms/step - loss: 10055.4414 - val_loss: 9820.2334\n",
      "Epoch 19/40\n",
      "200/200 [==============================] - 0s 2ms/step - loss: 10055.2422 - val_loss: 9820.0342\n",
      "Epoch 20/40\n",
      "200/200 [==============================] - 0s 2ms/step - loss: 10055.0420 - val_loss: 9819.8320\n",
      "Epoch 21/40\n",
      "200/200 [==============================] - 0s 2ms/step - loss: 10054.8398 - val_loss: 9819.6348\n",
      "Epoch 22/40\n",
      "200/200 [==============================] - 0s 2ms/step - loss: 10054.6377 - val_loss: 9819.4346\n",
      "Epoch 23/40\n",
      "200/200 [==============================] - 0s 2ms/step - loss: 10054.4434 - val_loss: 9819.2354\n",
      "Epoch 24/40\n",
      "200/200 [==============================] - 0s 2ms/step - loss: 10054.2383 - val_loss: 9819.0371\n",
      "Epoch 25/40\n",
      "200/200 [==============================] - 0s 2ms/step - loss: 10054.0430 - val_loss: 9818.8340\n",
      "Epoch 26/40\n",
      "200/200 [==============================] - 0s 2ms/step - loss: 10053.8379 - val_loss: 9818.6357\n",
      "Epoch 27/40\n",
      "200/200 [==============================] - 0s 2ms/step - loss: 10053.6436 - val_loss: 9818.4365\n",
      "Epoch 28/40\n",
      "200/200 [==============================] - 0s 2ms/step - loss: 10053.4424 - val_loss: 9818.2354\n",
      "Epoch 29/40\n",
      "200/200 [==============================] - 0s 2ms/step - loss: 10053.2402 - val_loss: 9818.0381\n",
      "Epoch 30/40\n",
      "200/200 [==============================] - 0s 2ms/step - loss: 10053.0381 - val_loss: 9817.8359\n",
      "Epoch 31/40\n",
      "200/200 [==============================] - 0s 2ms/step - loss: 10052.8408 - val_loss: 9817.6387\n",
      "Epoch 32/40\n",
      "200/200 [==============================] - 0s 2ms/step - loss: 10052.6436 - val_loss: 9817.4365\n",
      "Epoch 33/40\n",
      "200/200 [==============================] - 0s 2ms/step - loss: 10052.4404 - val_loss: 9817.2383\n",
      "Epoch 34/40\n",
      "200/200 [==============================] - 0s 2ms/step - loss: 10052.2383 - val_loss: 9817.0400\n",
      "Epoch 35/40\n",
      "200/200 [==============================] - 0s 2ms/step - loss: 10052.0391 - val_loss: 9816.8369\n",
      "Epoch 36/40\n",
      "200/200 [==============================] - 0s 2ms/step - loss: 10051.8408 - val_loss: 9816.6387\n",
      "Epoch 37/40\n",
      "200/200 [==============================] - 0s 2ms/step - loss: 10051.6396 - val_loss: 9816.4385\n",
      "Epoch 38/40\n",
      "200/200 [==============================] - 0s 2ms/step - loss: 10051.4414 - val_loss: 9816.2393\n",
      "Epoch 39/40\n",
      "200/200 [==============================] - 0s 2ms/step - loss: 10051.2422 - val_loss: 9816.0400\n",
      "Epoch 40/40\n",
      "200/200 [==============================] - 0s 2ms/step - loss: 10051.0400 - val_loss: 9815.8408\n",
      "CPU times: user 17.5 s, sys: 1.25 s, total: 18.7 s\n",
      "Wall time: 16.1 s\n"
     ]
    }
   ],
   "source": [
    "%%time\n",
    "history = a_model.fit(\n",
    "    tsr_train_features,\n",
    "    tsr_train_labels,\n",
    "    epochs=40,\n",
    "    validation_split=0.2)"
   ]
  },
  {
   "cell_type": "code",
   "execution_count": 13,
   "id": "45bb7c18-4c05-46a9-b1c5-f8bd58aebac7",
   "metadata": {},
   "outputs": [
    {
     "name": "stdout",
     "output_type": "stream",
     "text": [
      "1/1 [==============================] - 0s 93ms/step\n"
     ]
    }
   ],
   "source": [
    "a1 = [[11000]]\n",
    "b1 = a_model.predict(a1)"
   ]
  },
  {
   "cell_type": "code",
   "execution_count": 14,
   "id": "7629ea1d-bb68-4762-83b6-ed1a698134c6",
   "metadata": {},
   "outputs": [
    {
     "data": {
      "text/plain": [
       "array([[10.072]], dtype=float32)"
      ]
     },
     "execution_count": 14,
     "metadata": {},
     "output_type": "execute_result"
    }
   ],
   "source": [
    "b1"
   ]
  },
  {
   "cell_type": "code",
   "execution_count": 15,
   "id": "3b6f9278-4064-4014-81af-4f73a4afc5f2",
   "metadata": {},
   "outputs": [
    {
     "data": {
      "text/html": [
       "<div>\n",
       "<style scoped>\n",
       "    .dataframe tbody tr th:only-of-type {\n",
       "        vertical-align: middle;\n",
       "    }\n",
       "\n",
       "    .dataframe tbody tr th {\n",
       "        vertical-align: top;\n",
       "    }\n",
       "\n",
       "    .dataframe thead th {\n",
       "        text-align: right;\n",
       "    }\n",
       "</style>\n",
       "<table border=\"1\" class=\"dataframe\">\n",
       "  <thead>\n",
       "    <tr style=\"text-align: right;\">\n",
       "      <th></th>\n",
       "      <th>mean</th>\n",
       "      <th>std</th>\n",
       "    </tr>\n",
       "  </thead>\n",
       "  <tbody>\n",
       "    <tr>\n",
       "      <th>x</th>\n",
       "      <td>5003.4595</td>\n",
       "      <td>2887.354272</td>\n",
       "    </tr>\n",
       "    <tr>\n",
       "      <th>y</th>\n",
       "      <td>10011.9190</td>\n",
       "      <td>5774.708543</td>\n",
       "    </tr>\n",
       "  </tbody>\n",
       "</table>\n",
       "</div>"
      ],
      "text/plain": [
       "         mean          std\n",
       "x   5003.4595  2887.354272\n",
       "y  10011.9190  5774.708543"
      ]
     },
     "execution_count": 15,
     "metadata": {},
     "output_type": "execute_result"
    }
   ],
   "source": [
    "train_ds.describe().transpose()[['mean', 'std']]"
   ]
  },
  {
   "cell_type": "code",
   "execution_count": 16,
   "id": "3b307e84-d204-44f6-a7b3-ebffe64ba838",
   "metadata": {},
   "outputs": [
    {
     "name": "stdout",
     "output_type": "stream",
     "text": [
      "39391.848879519996\n"
     ]
    }
   ],
   "source": [
    "# original_value = (y_pred * standard_deviation) + mean\n",
    "\n",
    "original_value = (11.91 * 2887.354272) + 5003.4595\n",
    "print(original_value)"
   ]
  }
 ],
 "metadata": {
  "kernelspec": {
   "display_name": "Python 3 (ipykernel)",
   "language": "python",
   "name": "python3"
  },
  "language_info": {
   "codemirror_mode": {
    "name": "ipython",
    "version": 3
   },
   "file_extension": ".py",
   "mimetype": "text/x-python",
   "name": "python",
   "nbconvert_exporter": "python",
   "pygments_lexer": "ipython3",
   "version": "3.10.12"
  }
 },
 "nbformat": 4,
 "nbformat_minor": 5
}
